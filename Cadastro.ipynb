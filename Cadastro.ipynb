{
 "cells": [
  {
   "cell_type": "code",
   "execution_count": 2,
   "id": "a8a76542",
   "metadata": {},
   "outputs": [
    {
     "name": "stdout",
     "output_type": "stream",
     "text": [
      "Bem vindo, o que deseja?\n",
      "Pressione 1 para cadastrar e 2 para fazer login2\n",
      "digite o loginLuis\n",
      "digite a senha123\n",
      "Login realizado. Bem vindo Luis\n"
     ]
    }
   ],
   "source": [
    "import json\n",
    "\n",
    "login=[]\n",
    "senha=[]\n",
    "\n",
    "def cadastro():\n",
    "    login_novo = input(\"Crie seu login\")\n",
    "    senha_novo = input(\"Crie sua senha\")\n",
    "    res = input(\"Repita a senha\")\n",
    "    if senha_novo == res and senha_novo != \"\" and login_novo != \"\":\n",
    "        print(\"Cadastro feito com sucesso\")\n",
    "        login.append(login_novo)\n",
    "        senha.append(senha_novo)\n",
    "        with open('cadastro.json', 'w') as dados:\n",
    "            json.dump({\"login\": login_novo, \"senha\": senha_novo}, dados)\n",
    "\n",
    "    else:\n",
    "        print(\"As informações não estão corretas\")\n",
    "    \n",
    "    \n",
    "\n",
    "def iniciar():\n",
    "    log = input(\"digite o login\")\n",
    "    sen = input(\"digite a senha\")\n",
    "    with open('cadastro.json', 'r') as dados:\n",
    "        cadastros = json.load(dados)\n",
    "    if log == cadastros[\"login\"] and sen == cadastros[\"senha\"]:\n",
    "        print(f\"Login realizado. Bem vindo {log}\")\n",
    "    else:\n",
    "        print(\"Login ou senha inválida\")\n",
    "\n",
    "print(\"Bem vindo, o que deseja?\")\n",
    "entrar = int(input(\"Pressione 1 para cadastrar e 2 para fazer login\"))\n",
    "\n",
    "\n",
    "if entrar == 1:\n",
    "    cadastro()\n",
    "elif entrar == 2:\n",
    "    iniciar()\n",
    "else:\n",
    "    print(\"Escolha uma opção válida\")"
   ]
  },
  {
   "cell_type": "code",
   "execution_count": null,
   "id": "d3ea694f",
   "metadata": {},
   "outputs": [],
   "source": []
  }
 ],
 "metadata": {
  "kernelspec": {
   "display_name": "Python 3 (ipykernel)",
   "language": "python",
   "name": "python3"
  },
  "language_info": {
   "codemirror_mode": {
    "name": "ipython",
    "version": 3
   },
   "file_extension": ".py",
   "mimetype": "text/x-python",
   "name": "python",
   "nbconvert_exporter": "python",
   "pygments_lexer": "ipython3",
   "version": "3.11.5"
  }
 },
 "nbformat": 4,
 "nbformat_minor": 5
}
